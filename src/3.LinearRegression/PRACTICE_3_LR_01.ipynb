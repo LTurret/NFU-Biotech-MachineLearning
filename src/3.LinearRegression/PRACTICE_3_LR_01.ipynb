{
 "cells": [
  {
   "cell_type": "markdown",
   "metadata": {},
   "source": [
    "Import libraries"
   ]
  },
  {
   "cell_type": "code",
   "execution_count": 12,
   "metadata": {},
   "outputs": [],
   "source": [
    "import pandas as pd\n",
    "import matplotlib.pyplot as plt\n",
    "\n",
    "from sklearn.linear_model import LinearRegression\n",
    "from sklearn.model_selection import train_test_split\n",
    "from sklearn.metrics import mean_squared_error"
   ]
  },
  {
   "cell_type": "markdown",
   "metadata": {},
   "source": [
    "Import linear regression data"
   ]
  },
  {
   "cell_type": "code",
   "execution_count": 13,
   "metadata": {},
   "outputs": [
    {
     "name": "stdout",
     "output_type": "stream",
     "text": [
      "0\n",
      "Shape: (15, 2)\n",
      "Variables: Index(['Height', 'Weight'], dtype='object')\n",
      "The first data content:\n",
      "Height     1.47\n",
      "Weight    52.21\n",
      "Name: 0, dtype: float64\n",
      "The first predicted goal: 52.21\n"
     ]
    }
   ],
   "source": [
    "df = pd.read_csv(\"../../../data/data.csv\")\n",
    "\n",
    "print(df.isnull().values.sum()) # Check evey key if it has Null, summaries them, calculates as number eventually.\n",
    "print(f\"Shape: {df.shape}\")\n",
    "print(f\"Variables: {df.keys()}\")\n",
    "print(f\"The first data content:\\n{df.iloc[0,::]}\")\n",
    "print(f'The first predicted goal: {df[\"Weight\"][0]}') # I am not sure is this operation match the title, I think it's not."
   ]
  },
  {
   "cell_type": "markdown",
   "metadata": {},
   "source": [
    "Setup figures"
   ]
  },
  {
   "cell_type": "code",
   "execution_count": 14,
   "metadata": {},
   "outputs": [
    {
     "data": {
      "image/png": "[encoded data removed]",
      "text/plain": [
       "<Figure size 432x288 with 1 Axes>"
      ]
     },
     "metadata": {
      "needs_background": "light"
     },
     "output_type": "display_data"
    }
   ],
   "source": [
    "plt.scatter(df.Height, df.Weight, color=\"b\")\n",
    "plt.xlabel(\"Height\")\n",
    "plt.ylabel(\"Weight\")\n",
    "plt.savefig(f\"../pictures/Original_Data.jpg\")"
   ]
  },
  {
   "cell_type": "markdown",
   "metadata": {},
   "source": [
    "Prepare train data and test data for model"
   ]
  },
  {
   "cell_type": "code",
   "execution_count": 15,
   "metadata": {},
   "outputs": [
    {
     "name": "stdout",
     "output_type": "stream",
     "text": [
      "Original data shape: (15, 2)\n",
      "Tranning data shape: (12, 1)\n",
      "Testing data shape: (3, 1)\n"
     ]
    }
   ],
   "source": [
    "x = df.drop(\"Weight\", axis=1)\n",
    "y = df[\"Weight\"]\n",
    "\n",
    "train_x, test_x, train_y, test_y = train_test_split(x, y, test_size=0.2, random_state=42)\n",
    "print(f\"Original data shape: {df.shape}\")\n",
    "print(f\"Tranning data shape: {train_x.shape}\")\n",
    "print(f\"Testing data shape: {test_x.shape}\")"
   ]
  },
  {
   "cell_type": "markdown",
   "metadata": {},
   "source": [
    "Trainning"
   ]
  },
  {
   "cell_type": "code",
   "execution_count": 16,
   "metadata": {},
   "outputs": [
    {
     "name": "stdout",
     "output_type": "stream",
     "text": [
      "Coefficients: [63.13171913]\n",
      "Intercept: -42.178608958837785\n"
     ]
    }
   ],
   "source": [
    "model = LinearRegression()\n",
    "model.fit(train_x, train_y)\n",
    "print(f\"Coefficients: {model.coef_}\")    # 模型係數\n",
    "print(f\"Intercept: {model.intercept_}\")  # 截距"
   ]
  },
  {
   "cell_type": "markdown",
   "metadata": {},
   "source": [
    "Import test data to model for predictions and calculate MSE\n",
    "\n",
    "Using formula `MSE(Mean Square Error)` to fine a least `Loss` line\n",
    "\n",
    "$$MSE = \\frac{\\sum_{i=1}^{n}(yi-\\hat{y}i)^2}{n}$$"
   ]
  },
  {
   "cell_type": "code",
   "execution_count": 75,
   "metadata": {},
   "outputs": [
    {
     "name": "stdout",
     "output_type": "stream",
     "text": [
      "[1.7]\n"
     ]
    }
   ],
   "source": [
    "pred = model.predict(test_x)\n",
    "score = mean_squared_error(pred, test_y)\n",
    "print(f\"MSE: {score}\")"
   ]
  },
  {
   "cell_type": "markdown",
   "metadata": {},
   "source": [
    "Linear regression"
   ]
  },
  {
   "cell_type": "code",
   "execution_count": 76,
   "metadata": {},
   "outputs": [
    {
     "data": {
      "image/png": "[encoded data removed]",
      "text/plain": [
       "<Figure size 432x288 with 1 Axes>"
      ]
     },
     "metadata": {
      "needs_background": "light"
     },
     "output_type": "display_data"
    }
   ],
   "source": [
    "plt.scatter(x, y, color=\"b\")\n",
    "plt.plot(test_x.values.tolist(), pred, color=\"r\")\n",
    "plt.xlabel(\"Height\")\n",
    "plt.ylabel(\"Weight\")\n",
    "plt.savefig(f\"../pictures/Regression_Data.jpg\")"
   ]
  }
 ],
 "metadata": {
  "interpreter": {
   "hash": "0377873d44c391242eff188e73225de5a20f5928567df5ff9090c8ac6db5e69e"
  },
  "kernelspec": {
   "display_name": "Python 3.8.10 64-bit",
   "language": "python",
   "name": "python3"
  },
  "language_info": {
   "codemirror_mode": {
    "name": "ipython",
    "version": 3
   },
   "file_extension": ".py",
   "mimetype": "text/x-python",
   "name": "python",
   "nbconvert_exporter": "python",
   "pygments_lexer": "ipython3",
   "version": "3.8.10"
  },
  "orig_nbformat": 4
 },
 "nbformat": 4,
 "nbformat_minor": 2
}
