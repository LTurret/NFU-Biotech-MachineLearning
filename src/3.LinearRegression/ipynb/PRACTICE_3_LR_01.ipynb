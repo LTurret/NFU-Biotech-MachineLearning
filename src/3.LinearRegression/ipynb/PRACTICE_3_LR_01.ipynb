{
 "cells": [
  {
   "cell_type": "code",
   "execution_count": null,
   "metadata": {},
   "outputs": [],
   "source": [
    "import pandas as pd\n",
    "import matplotlib.pyplot as plt\n",
    "\n",
    "from sklearn.linear_model import LinearRegression\n",
    "from sklearn.model_selection import train_test_split\n",
    "from sklearn.metrics import mean_squared_error"
   ]
  },
  {
   "cell_type": "markdown",
   "metadata": {},
   "source": [
    "##### Import linear regression data"
   ]
  },
  {
   "cell_type": "code",
   "execution_count": null,
   "metadata": {},
   "outputs": [],
   "source": [
    "df = pd.read_csv(\"../../data/data.csv\")"
   ]
  },
  {
   "cell_type": "code",
   "execution_count": null,
   "metadata": {},
   "outputs": [],
   "source": [
    "print(df.isnull().values.sum()) # Check evey key if it has Null, summaries them, calculates as number eventually.\n",
    "print(f\"Shape: {df.shape}\")\n",
    "print(f\"Variables: {df.keys()}\")\n",
    "print(f\"The first data content:\\n{df.iloc[0,::]}\")\n",
    "print(f'The first predicted goal: {df[\"Weight\"][0]}') # I am not sure is this operation match the title, I think it's not."
   ]
  },
  {
   "cell_type": "markdown",
   "metadata": {},
   "source": [
    "##### Setup figures"
   ]
  },
  {
   "cell_type": "code",
   "execution_count": null,
   "metadata": {},
   "outputs": [],
   "source": [
    "plt.scatter(df.Height, df.Weight, color=\"b\")\n",
    "plt.xlabel(\"Height\")\n",
    "plt.ylabel(\"Weight\")\n",
    "plt.savefig(f\"./pictures/Original_Data.jpg\")"
   ]
  },
  {
   "cell_type": "markdown",
   "metadata": {},
   "source": [
    "##### Prepare train data and test data for model."
   ]
  },
  {
   "cell_type": "code",
   "execution_count": null,
   "metadata": {},
   "outputs": [],
   "source": [
    "x = df.drop(\"Weight\", axis=1)\n",
    "y = df[\"Weight\"]\n",
    "\n",
    "train_x, test_x, train_y, test_y = train_test_split(x, y, test_size=0.2, random_state=42)\n",
    "print(f\"Original data shape: {df.shape}\")\n",
    "print(f\"Tranning data shape: {train_x.shape}\")\n",
    "print(f\"Testing data shape: {test_x.shape}\")"
   ]
  }
 ],
 "metadata": {
  "interpreter": {
   "hash": "0377873d44c391242eff188e73225de5a20f5928567df5ff9090c8ac6db5e69e"
  },
  "kernelspec": {
   "display_name": "Python 3.8.10 64-bit",
   "language": "python",
   "name": "python3"
  },
  "language_info": {
   "name": "python",
   "version": "3.8.10"
  },
  "orig_nbformat": 4
 },
 "nbformat": 4,
 "nbformat_minor": 2
}
