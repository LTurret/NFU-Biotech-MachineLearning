{
 "cells": [
  {
   "cell_type": "markdown",
   "metadata": {},
   "source": [
    "Import libraries"
   ]
  },
  {
   "cell_type": "code",
   "execution_count": 4,
   "metadata": {},
   "outputs": [],
   "source": [
    "import pandas as pd\n",
    "import matplotlib.pyplot as plt\n",
    "\n",
    "from sklearn.linear_model import LinearRegression\n",
    "from sklearn.model_selection import train_test_split\n",
    "from sklearn.metrics import mean_squared_error"
   ]
  },
  {
   "cell_type": "markdown",
   "metadata": {},
   "source": [
    "Import linear regression data"
   ]
  },
  {
   "cell_type": "code",
   "execution_count": 5,
   "metadata": {},
   "outputs": [
    {
     "name": "stdout",
     "output_type": "stream",
     "text": [
      "0\n",
      "Shape: (133, 2)\n",
      "Variables: Index(['MileagePerPerson', 'Income'], dtype='object')\n",
      "The first data content:\n",
      "MileagePerPerson    150073966\n",
      "Income              333641788\n",
      "Name: 0, dtype: int64\n",
      "The first awaited predict target: 333641788\n"
     ]
    }
   ],
   "source": [
    "df = pd.read_csv(\"../../data/homework.csv\")\n",
    "\n",
    "# Compare every value is Null and summaries them, calculates as number eventually.\n",
    "print(df.isnull().values.sum())\n",
    "\n",
    "print(f\"Shape: {df.shape}\")\n",
    "print(f\"Variables: {df.keys()}\")\n",
    "print(f\"The first data content:\\n{df.iloc[0,::]}\")\n",
    "\n",
    "# Becaues we are going to predict the future Income, so we set the target as \"Income\".\n",
    "print(f'The first awaited predict target: {df[\"Income\"][0]}')"
   ]
  },
  {
   "cell_type": "markdown",
   "metadata": {},
   "source": [
    "Setup figures"
   ]
  },
  {
   "cell_type": "code",
   "execution_count": 6,
   "metadata": {},
   "outputs": [
    {
     "data": {
      "image/png": "[encoded data removed]",
      "text/plain": [
       "<Figure size 432x288 with 1 Axes>"
      ]
     },
     "metadata": {
      "needs_background": "light"
     },
     "output_type": "display_data"
    }
   ],
   "source": [
    "plt.scatter(df.MileagePerPerson, df.Income, color=\"b\")\n",
    "plt.xlabel(\"MileagePerPerson\")\n",
    "plt.ylabel(\"Income\")\n",
    "plt.savefig(f\"./figures/homework/Original_Data.jpg\")"
   ]
  },
  {
   "cell_type": "markdown",
   "metadata": {},
   "source": [
    "Prepare train data and test data for model"
   ]
  },
  {
   "cell_type": "code",
   "execution_count": 7,
   "metadata": {},
   "outputs": [
    {
     "name": "stdout",
     "output_type": "stream",
     "text": [
      "Original data shape: (133, 2)\n",
      "Tranning data shape: (106, 1)\n",
      "Testing data shape: (27, 1)\n"
     ]
    }
   ],
   "source": [
    "x = df.drop(\"Income\", axis=1)\n",
    "y = df[\"Income\"]\n",
    "\n",
    "train_x, test_x, train_y, test_y = train_test_split(x, y, test_size=0.2, random_state=42)\n",
    "print(f\"Original data shape: {df.shape}\")\n",
    "print(f\"Tranning data shape: {train_x.shape}\")\n",
    "print(f\"Testing data shape: {test_x.shape}\")"
   ]
  },
  {
   "cell_type": "markdown",
   "metadata": {},
   "source": [
    "Trainning"
   ]
  },
  {
   "cell_type": "code",
   "execution_count": 8,
   "metadata": {},
   "outputs": [
    {
     "name": "stdout",
     "output_type": "stream",
     "text": [
      "Coefficients: [2.3248781]\n",
      "Intercept: -966454.5677380264\n"
     ]
    }
   ],
   "source": [
    "model = LinearRegression()\n",
    "model.fit(train_x, train_y)\n",
    "print(f\"Coefficients: {model.coef_}\")    # 模型係數\n",
    "print(f\"Intercept: {model.intercept_}\")  # 截距"
   ]
  },
  {
   "cell_type": "markdown",
   "metadata": {},
   "source": [
    "Import test data to model for predictions and calculate MSE\n",
    "\n",
    "Using formula `MSE(Mean Square Error)` to fine a least `Loss` line\n",
    "\n",
    "$$MSE = \\frac{\\sum_{i=1}^{n}(yi-\\hat{y}i)^2}{n}$$"
   ]
  },
  {
   "cell_type": "code",
   "execution_count": 9,
   "metadata": {},
   "outputs": [
    {
     "name": "stdout",
     "output_type": "stream",
     "text": [
      "MSE: 27636230501588.547\n"
     ]
    }
   ],
   "source": [
    "pred = model.predict(test_x)\n",
    "score = mean_squared_error(pred, test_y)\n",
    "print(f\"MSE: {score}\")"
   ]
  },
  {
   "cell_type": "markdown",
   "metadata": {},
   "source": [
    "Linear regression"
   ]
  },
  {
   "cell_type": "code",
   "execution_count": 11,
   "metadata": {},
   "outputs": [
    {
     "data": {
      "image/png": "[encoded data removed]",
      "text/plain": [
       "<Figure size 432x288 with 1 Axes>"
      ]
     },
     "metadata": {
      "needs_background": "light"
     },
     "output_type": "display_data"
    }
   ],
   "source": [
    "plt.scatter(x, y, color=\"b\")\n",
    "plt.plot(test_x.values.tolist(), pred, color=\"r\")\n",
    "plt.xlabel(\"MileagePerPerson\")\n",
    "plt.ylabel(\"Income\")\n",
    "plt.savefig(f\"./figures/homework/Regression_Data.jpg\")"
   ]
  }
 ],
 "metadata": {
  "interpreter": {
   "hash": "0377873d44c391242eff188e73225de5a20f5928567df5ff9090c8ac6db5e69e"
  },
  "kernelspec": {
   "display_name": "Python 3.8.10 64-bit",
   "language": "python",
   "name": "python3"
  },
  "language_info": {
   "codemirror_mode": {
    "name": "ipython",
    "version": 3
   },
   "file_extension": ".py",
   "mimetype": "text/x-python",
   "name": "python",
   "nbconvert_exporter": "python",
   "pygments_lexer": "ipython3",
   "version": "3.8.10"
  },
  "orig_nbformat": 4
 },
 "nbformat": 4,
 "nbformat_minor": 2
}
