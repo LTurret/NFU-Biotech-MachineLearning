{
 "cells": [
  {
   "cell_type": "code",
   "execution_count": null,
   "metadata": {},
   "outputs": [],
   "source": [
    "import matplotlib.pyplot as plt\n",
    "import pandas as pd\n",
    "import numpy as np\n",
    "\n",
    "from matplotlib.colors import ListedColormap\n",
    "from sklearn.model_selection import train_test_split\n",
    "from sklearn.preprocessing import StandardScaler\n",
    "from sklearn.linear_model import LogisticRegression\n",
    "from sklearn.datasets import load_iris\n",
    "from sklearn.metrics import confusion_matrix"
   ]
  },
  {
   "cell_type": "code",
   "execution_count": null,
   "metadata": {},
   "outputs": [],
   "source": [
    "iris = load_iris()\n",
    "x = pd.DataFrame(iris[\"data\"], columns=iris[\"feature_names\"])\n",
    "y = pd.DataFrame(iris[\"target\"], columns=[\"target\"])\n",
    "iris = pd.concat([x,y], axis=1)\n",
    "iris.head()"
   ]
  },
  {
   "cell_type": "code",
   "execution_count": null,
   "metadata": {},
   "outputs": [],
   "source": [
    "print(iris.isnull().values.sum())\n",
    "print(f\"Data shapes: {iris.shape}\\n\")\n",
    "print(f\"Data keys:\\n{iris.keys()}\\n\")\n",
    "print(f\"The first data content:\\n{iris.iloc[0,::]}\\n\")\n",
    "print(f'The first predict target: {iris[\"target\"][0]}')"
   ]
  },
  {
   "cell_type": "code",
   "execution_count": null,
   "metadata": {},
   "outputs": [],
   "source": [
    "markers = (\"o\", \"^\", \"x\")\n",
    "colors = (\"red\", \"green\", \"blue\")\n",
    "cmap = ListedColormap(colors[:len(np.unique(y))])\n",
    "y = iris[\"target\"].values\n",
    "for i, t in enumerate(np.unique(y)):  \n",
    "    p = iris[y == t]\n",
    "    plt.scatter(x=p[\"sepal length (cm)\"],  y=p[\"petal length (cm)\"], c=cmap(i), marker=markers[i],  label=t)\n",
    "plt.xlabel('萼片長度')\n",
    "plt.ylabel('花瓣長度')\n",
    "plt.legend(loc='upper left')\n",
    "plt.tight_layout()\n",
    "plt.show()"
   ]
  }
 ],
 "metadata": {
  "interpreter": {
   "hash": "0377873d44c391242eff188e73225de5a20f5928567df5ff9090c8ac6db5e69e"
  },
  "kernelspec": {
   "display_name": "Python 3.8.10 64-bit",
   "language": "python",
   "name": "python3"
  },
  "language_info": {
   "codemirror_mode": {
    "name": "ipython",
    "version": 3
   },
   "file_extension": ".py",
   "mimetype": "text/x-python",
   "name": "python",
   "nbconvert_exporter": "python",
   "pygments_lexer": "ipython3",
   "version": "3.8.10"
  },
  "orig_nbformat": 4
 },
 "nbformat": 4,
 "nbformat_minor": 2
}
