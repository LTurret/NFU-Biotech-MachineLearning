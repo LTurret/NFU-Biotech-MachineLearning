{
 "cells": [
  {
   "cell_type": "code",
   "execution_count": 3,
   "metadata": {},
   "outputs": [
    {
     "name": "stdout",
     "output_type": "stream",
     "text": [
      "   0   1   2   3\n",
      "0  1   2   3   4\n",
      "1  5   6   7   8\n",
      "2  9  10  11  12\n",
      "DataFrame shapes: (3, 4)\n",
      "\n",
      "df.keys(): RangeIndex(start=0, stop=4, step=1)\n",
      "\n",
      "df[0:1], first row's content:\n",
      "   0  1  2  3\n",
      "0  1  2  3  4\n",
      "\n",
      "df[1:0], first column's content:\n",
      "0    1\n",
      "1    5\n",
      "2    9\n",
      "Name: 0, dtype: int32\n",
      "\n",
      "df's 1st row, 4th column content: 4\n"
     ]
    }
   ],
   "source": [
    "import pandas as pd\n",
    "import numpy as np\n",
    "\n",
    "df = pd.DataFrame(np.arange(1, 13).reshape(3, 4))\n",
    "\n",
    "# DataFrame's content details\n",
    "\n",
    "print(df)\n",
    "print(f\"DataFrame shapes: {df.shape}\\n\")\n",
    "print(f\"df.keys(): {df.keys()}\\n\")\n",
    "print(f\"df[0:1], first row's content:\\n{df[0:1]}\\n\")\n",
    "print(f\"df[1:0], first column's content:\\n{df[0]}\\n\")\n",
    "print(f\"df's 1st row, 4th column content: {df[3][0]}\")\n",
    "\n",
    "# Hint: df[row][column]"
   ]
  }
 ],
 "metadata": {
  "interpreter": {
   "hash": "0377873d44c391242eff188e73225de5a20f5928567df5ff9090c8ac6db5e69e"
  },
  "kernelspec": {
   "display_name": "Python 3.8.10 64-bit",
   "language": "python",
   "name": "python3"
  },
  "language_info": {
   "codemirror_mode": {
    "name": "ipython",
    "version": 3
   },
   "file_extension": ".py",
   "mimetype": "text/x-python",
   "name": "python",
   "nbconvert_exporter": "python",
   "pygments_lexer": "ipython3",
   "version": "3.8.10"
  },
  "orig_nbformat": 4
 },
 "nbformat": 4,
 "nbformat_minor": 2
}
