{
 "cells": [
  {
   "cell_type": "code",
   "execution_count": 4,
   "metadata": {},
   "outputs": [
    {
     "name": "stdout",
     "output_type": "stream",
     "text": [
      "    A   B   C   D   E\n",
      "0   1  11  21  31  41\n",
      "1   2  12  22  32  42\n",
      "2   3  13  23  33  43\n",
      "3   4  14  24  34  44\n",
      "4   5  15  25  35  45\n",
      "5   6  16  26  36  46\n",
      "6   7  17  27  37  47\n",
      "7   8  18  28  38  48\n",
      "8   9  19  29  39  49\n",
      "9  10  20  30  40  50\n",
      "\n",
      "   A   B   C   D   E\n",
      "0  1  11  21  31  41\n",
      "1  2  12  22  32  42\n",
      "2  3  13  23  33  43\n",
      "\n",
      "    A   B   C   D   E\n",
      "7   8  18  28  38  48\n",
      "8   9  19  29  39  49\n",
      "9  10  20  30  40  50\n",
      "\n"
     ]
    }
   ],
   "source": [
    "import pandas as pd\n",
    "import numpy as np\n",
    "\n",
    "# Create element using arrange function\n",
    "dic = {\n",
    "    \"A\": np.arange(1, 11),\n",
    "    \"B\": np.arange(11, 21),\n",
    "    \"C\": np.arange(21, 31),\n",
    "    \"D\": np.arange(31, 41),\n",
    "    \"E\": np.arange(41, 51)\n",
    "}\n",
    "\n",
    "df = pd.DataFrame(dic)\n",
    "\n",
    "print(f\"{df}\\n\")\n",
    "print(f\"{df.head(3)}\\n\") # Print the first three columns of content\n",
    "print(f\"{df.tail(3)}\\n\") # Print the end three columns of content"
   ]
  }
 ],
 "metadata": {
  "interpreter": {
   "hash": "0377873d44c391242eff188e73225de5a20f5928567df5ff9090c8ac6db5e69e"
  },
  "kernelspec": {
   "display_name": "Python 3.8.10 64-bit",
   "language": "python",
   "name": "python3"
  },
  "language_info": {
   "codemirror_mode": {
    "name": "ipython",
    "version": 3
   },
   "file_extension": ".py",
   "mimetype": "text/x-python",
   "name": "python",
   "nbconvert_exporter": "python",
   "pygments_lexer": "ipython3",
   "version": "3.8.10"
  },
  "orig_nbformat": 4
 },
 "nbformat": 4,
 "nbformat_minor": 2
}
