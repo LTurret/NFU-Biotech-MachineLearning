{
 "cells": [
  {
   "cell_type": "code",
   "execution_count": 5,
   "metadata": {},
   "outputs": [
    {
     "name": "stdout",
     "output_type": "stream",
     "text": [
      "   0   1   2   3\n",
      "0  1   2   3   4\n",
      "1  5   6   7   8\n",
      "2  9  10  11  12\n",
      "\n",
      "    0   1\n",
      "0  10  24\n",
      "1  18  15\n",
      "2  12   6\n",
      "3   9   2\n",
      "4  21  12\n",
      "\n"
     ]
    }
   ],
   "source": [
    "import pandas as pd\n",
    "import numpy as np\n",
    "\n",
    "# Type-1\n",
    "df = pd.DataFrame(np.arange(1, 13).reshape(3, 4))\n",
    "print(f\"{df}\\n\")\n",
    "\n",
    "# Type-2\n",
    "df = pd.DataFrame(np.random.randint(1, 25, 10).reshape(5, 2))\n",
    "print(f\"{df}\\n\")"
   ]
  }
 ],
 "metadata": {
  "interpreter": {
   "hash": "0377873d44c391242eff188e73225de5a20f5928567df5ff9090c8ac6db5e69e"
  },
  "kernelspec": {
   "display_name": "Python 3.8.10 64-bit",
   "language": "python",
   "name": "python3"
  },
  "language_info": {
   "codemirror_mode": {
    "name": "ipython",
    "version": 3
   },
   "file_extension": ".py",
   "mimetype": "text/x-python",
   "name": "python",
   "nbconvert_exporter": "python",
   "pygments_lexer": "ipython3",
   "version": "3.8.10"
  },
  "orig_nbformat": 4
 },
 "nbformat": 4,
 "nbformat_minor": 2
}
