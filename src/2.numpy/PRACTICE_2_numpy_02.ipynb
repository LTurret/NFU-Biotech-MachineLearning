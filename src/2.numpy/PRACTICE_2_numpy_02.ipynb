{
 "cells": [
  {
   "cell_type": "code",
   "execution_count": 5,
   "metadata": {},
   "outputs": [
    {
     "name": "stdout",
     "output_type": "stream",
     "text": [
      "   0   1   2   3\n",
      "0  1   2   3   4\n",
      "1  5   6   7   8\n",
      "2  9  10  11  12\n",
      "1\n",
      "\n",
      "\n",
      "    大   披   薩\n",
      "瑪   1   2   3\n",
      "格   4   5   6\n",
      "麗   7   8   9\n",
      "特  10  11  12\n"
     ]
    }
   ],
   "source": [
    "import pandas as pd\n",
    "import numpy as np\n",
    "\n",
    "# Create DataFrame\n",
    "df = pd.DataFrame(np.arange(1, 13).reshape(3, 4))\n",
    "\n",
    "print(df)\n",
    "\n",
    "print(\"\\n\")\n",
    "\n",
    "# Create DataFrame with custom index indent.\n",
    "df = pd.DataFrame(np.arange(1, 13).reshape(4, 3), index=list(\"瑪格麗特\"), columns=list(\"大披薩\"))\n",
    "\n",
    "print(df)\n",
    "\n",
    "#Notice that you cannot indexing with `df[row][column]` after custom index assignment"
   ]
  }
 ],
 "metadata": {
  "interpreter": {
   "hash": "0377873d44c391242eff188e73225de5a20f5928567df5ff9090c8ac6db5e69e"
  },
  "kernelspec": {
   "display_name": "Python 3.8.10 64-bit",
   "language": "python",
   "name": "python3"
  },
  "language_info": {
   "codemirror_mode": {
    "name": "ipython",
    "version": 3
   },
   "file_extension": ".py",
   "mimetype": "text/x-python",
   "name": "python",
   "nbconvert_exporter": "python",
   "pygments_lexer": "ipython3",
   "version": "3.8.10"
  },
  "orig_nbformat": 4
 },
 "nbformat": 4,
 "nbformat_minor": 2
}
